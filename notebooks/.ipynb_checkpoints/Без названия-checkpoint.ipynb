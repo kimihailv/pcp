{
 "cells": [
  {
   "cell_type": "code",
   "execution_count": 1,
   "id": "7a063ff7",
   "metadata": {},
   "outputs": [],
   "source": [
    "%load_ext autoreload\n",
    "%autoreload 2\n",
    "import torch\n",
    "import sys\n",
    "sys.path.insert(0, '..')\n",
    "from models import DGCNNSegBackbone\n",
    "from models.diffae import DiffAE\n",
    "from datasets import ShapeNetDataset, PointCloudNormalize\n",
    "from torch.utils.data import DataLoader\n",
    "import numpy as np"
   ]
  },
  {
   "cell_type": "code",
   "execution_count": 2,
   "id": "f8655c62",
   "metadata": {},
   "outputs": [],
   "source": [
    "ds = ShapeNetDataset('../../datasets/shapenet.h5', ['val'], ['all'],\n",
    "                     transform=PointCloudNormalize('shape_unit'))\n",
    "\n",
    "loader = DataLoader(ds, batch_size=10, shuffle=False)"
   ]
  },
  {
   "cell_type": "code",
   "execution_count": 9,
   "id": "f6e4efe4",
   "metadata": {},
   "outputs": [
    {
     "data": {
      "text/plain": [
       "DiffAE(\n",
       "  (ae): AE(\n",
       "    (encoder): MiniPointNet(\n",
       "      (mlp1): Sequential(\n",
       "        (0): Conv1d(3, 128, kernel_size=(1,), stride=(1,))\n",
       "        (1): BatchNorm1d(128, eps=1e-05, momentum=0.1, affine=True, track_running_stats=True)\n",
       "        (2): ReLU(inplace=True)\n",
       "        (3): Conv1d(128, 256, kernel_size=(1,), stride=(1,))\n",
       "        (4): BatchNorm1d(256, eps=1e-05, momentum=0.1, affine=True, track_running_stats=True)\n",
       "        (5): ReLU(inplace=True)\n",
       "        (6): Conv1d(256, 512, kernel_size=(1,), stride=(1,))\n",
       "        (7): BatchNorm1d(512, eps=1e-05, momentum=0.1, affine=True, track_running_stats=True)\n",
       "      )\n",
       "      (mlp2): Sequential(\n",
       "        (0): Conv1d(515, 512, kernel_size=(1,), stride=(1,))\n",
       "        (1): BatchNorm1d(512, eps=1e-05, momentum=0.1, affine=True, track_running_stats=True)\n",
       "        (2): ReLU(inplace=True)\n",
       "        (3): Conv1d(512, 512, kernel_size=(1,), stride=(1,))\n",
       "        (4): BatchNorm1d(512, eps=1e-05, momentum=0.1, affine=True, track_running_stats=True)\n",
       "        (5): ReLU(inplace=True)\n",
       "        (6): Conv1d(512, 512, kernel_size=(1,), stride=(1,))\n",
       "      )\n",
       "      (attn): Attention1d(\n",
       "        (q): Conv1d(512, 512, kernel_size=(1,), stride=(1,), bias=False)\n",
       "        (v): Conv1d(512, 512, kernel_size=(1,), stride=(1,), bias=False)\n",
       "        (k): Conv1d(512, 512, kernel_size=(1,), stride=(1,), bias=False)\n",
       "        (out): Conv1d(512, 512, kernel_size=(1,), stride=(1,), bias=False)\n",
       "      )\n",
       "      (head): Sequential(\n",
       "        (0): Linear(in_features=512, out_features=256, bias=True)\n",
       "        (1): BatchNorm1d(256, eps=1e-05, momentum=0.1, affine=True, track_running_stats=True)\n",
       "        (2): Linear(in_features=256, out_features=256, bias=True)\n",
       "        (3): BatchNorm1d(256, eps=1e-05, momentum=0.1, affine=True, track_running_stats=True)\n",
       "        (4): Linear(in_features=256, out_features=512, bias=True)\n",
       "      )\n",
       "    )\n",
       "    (time_embed): Sequential(\n",
       "      (0): Linear(in_features=128, out_features=256, bias=True)\n",
       "      (1): BatchNorm1d(256, eps=1e-05, momentum=0.1, affine=True, track_running_stats=True)\n",
       "      (2): LeakyReLU(negative_slope=0.2, inplace=True)\n",
       "      (3): Linear(in_features=256, out_features=128, bias=True)\n",
       "    )\n",
       "    (an1): AdaGN(\n",
       "      (linear): Conv1d(3, 128, kernel_size=(1,), stride=(1,))\n",
       "      (norm): GroupNorm(8, 3, eps=1e-06, affine=False)\n",
       "      (scale_shift): Linear(in_features=640, out_features=256, bias=True)\n",
       "    )\n",
       "    (an2): AdaGN(\n",
       "      (linear): Conv1d(128, 128, kernel_size=(1,), stride=(1,))\n",
       "      (norm): GroupNorm(8, 128, eps=1e-06, affine=False)\n",
       "      (scale_shift): Linear(in_features=640, out_features=256, bias=True)\n",
       "    )\n",
       "    (an3): AdaGN(\n",
       "      (linear): Conv1d(128, 256, kernel_size=(1,), stride=(1,))\n",
       "      (norm): GroupNorm(32, 128, eps=1e-06, affine=False)\n",
       "      (scale_shift): Linear(in_features=640, out_features=512, bias=True)\n",
       "    )\n",
       "    (an4): AdaGN(\n",
       "      (linear): Conv1d(256, 256, kernel_size=(1,), stride=(1,))\n",
       "      (norm): GroupNorm(32, 256, eps=1e-06, affine=False)\n",
       "      (scale_shift): Linear(in_features=640, out_features=512, bias=True)\n",
       "    )\n",
       "    (an5): AdaGN(\n",
       "      (linear): Conv1d(256, 512, kernel_size=(1,), stride=(1,))\n",
       "      (norm): GroupNorm(32, 256, eps=1e-06, affine=False)\n",
       "      (scale_shift): Linear(in_features=640, out_features=1024, bias=True)\n",
       "    )\n",
       "    (an6): AdaGN(\n",
       "      (linear): Conv1d(512, 512, kernel_size=(1,), stride=(1,))\n",
       "      (norm): GroupNorm(32, 512, eps=1e-06, affine=False)\n",
       "      (scale_shift): Linear(in_features=640, out_features=1024, bias=True)\n",
       "    )\n",
       "    (linear): Conv1d(3, 3, kernel_size=(1,), stride=(1,))\n",
       "    (act): LeakyReLU(negative_slope=0.2, inplace=True)\n",
       "    (mlp): Sequential(\n",
       "      (0): Conv1d(512, 1024, kernel_size=(1,), stride=(1,))\n",
       "      (1): BatchNorm1d(1024, eps=1e-05, momentum=0.1, affine=True, track_running_stats=True)\n",
       "      (2): Dropout(p=0.5, inplace=False)\n",
       "      (3): LeakyReLU(negative_slope=0.2, inplace=True)\n",
       "      (4): Conv1d(1024, 256, kernel_size=(1,), stride=(1,))\n",
       "      (5): BatchNorm1d(256, eps=1e-05, momentum=0.1, affine=True, track_running_stats=True)\n",
       "      (6): LeakyReLU(negative_slope=0.2, inplace=True)\n",
       "      (7): Conv1d(256, 3, kernel_size=(1,), stride=(1,))\n",
       "    )\n",
       "  )\n",
       ")"
      ]
     },
     "execution_count": 9,
     "metadata": {},
     "output_type": "execute_result"
    }
   ],
   "source": [
    "model = DiffAE()\n",
    "model.load_state_dict(torch.load('../weights/diffae_ema.pt', map_location='cpu'))\n",
    "model.eval()"
   ]
  },
  {
   "cell_type": "code",
   "execution_count": 11,
   "id": "0023e53b",
   "metadata": {},
   "outputs": [],
   "source": [
    "x, _ = next(iter(loader))"
   ]
  },
  {
   "cell_type": "code",
   "execution_count": 14,
   "id": "0c4a03ba",
   "metadata": {},
   "outputs": [],
   "source": [
    "with torch.no_grad():\n",
    "    f = model.ae.encoder.forward_features(x)"
   ]
  },
  {
   "cell_type": "code",
   "execution_count": 21,
   "id": "a74972cf",
   "metadata": {},
   "outputs": [],
   "source": [
    "import k3d\n",
    "from sklearn.cluster import KMeans"
   ]
  },
  {
   "cell_type": "code",
   "execution_count": 22,
   "id": "66ee09c0",
   "metadata": {},
   "outputs": [
    {
     "name": "stderr",
     "output_type": "stream",
     "text": [
      "/Users/mihailkim/miniforge3/lib/python3.9/site-packages/sklearn/cluster/_kmeans.py:1252: ConvergenceWarning: Number of distinct clusters (1) found smaller than n_clusters (5). Possibly due to duplicate points in X.\n",
      "  return self.fit(X, sample_weight=sample_weight).labels_\n"
     ]
    },
    {
     "data": {
      "application/vnd.jupyter.widget-view+json": {
       "model_id": "0cfba28db2dd4fbb80495fdab5838fe0",
       "version_major": 2,
       "version_minor": 0
      },
      "text/plain": [
       "Output()"
      ]
     },
     "metadata": {},
     "output_type": "display_data"
    }
   ],
   "source": [
    "labels = KMeans(n_clusters=5, random_state=0).fit_predict(f[0].t())\n",
    "k3d.points(x[0].t(), point_size=0.05, attribute=labels)"
   ]
  },
  {
   "cell_type": "code",
   "execution_count": 26,
   "id": "a81518a3",
   "metadata": {},
   "outputs": [
    {
     "data": {
      "text/plain": [
       "tensor([[   16.5809,    16.5809,    16.5809,  ...,    16.5809,    16.5809,\n",
       "            16.5809],\n",
       "        [-1298.4937, -1298.4937, -1298.4937,  ..., -1298.4937, -1298.4937,\n",
       "         -1298.4937],\n",
       "        [ 2811.4106,  2811.4106,  2811.4106,  ...,  2811.4106,  2811.4106,\n",
       "          2811.4106],\n",
       "        ...,\n",
       "        [ 2146.8257,  2146.8257,  2146.8257,  ...,  2146.8257,  2146.8257,\n",
       "          2146.8257],\n",
       "        [    8.4985,     8.4985,     8.4985,  ...,     8.4985,     8.4985,\n",
       "             8.4985],\n",
       "        [ 2758.6208,  2758.6208,  2758.6208,  ...,  2758.6208,  2758.6208,\n",
       "          2758.6208]])"
      ]
     },
     "execution_count": 26,
     "metadata": {},
     "output_type": "execute_result"
    }
   ],
   "source": [
    "f[0]"
   ]
  },
  {
   "cell_type": "code",
   "execution_count": null,
   "id": "d2dc0b29",
   "metadata": {},
   "outputs": [],
   "source": []
  }
 ],
 "metadata": {
  "kernelspec": {
   "display_name": "Python 3 (ipykernel)",
   "language": "python",
   "name": "python3"
  },
  "language_info": {
   "codemirror_mode": {
    "name": "ipython",
    "version": 3
   },
   "file_extension": ".py",
   "mimetype": "text/x-python",
   "name": "python",
   "nbconvert_exporter": "python",
   "pygments_lexer": "ipython3",
   "version": "3.9.12"
  }
 },
 "nbformat": 4,
 "nbformat_minor": 5
}
