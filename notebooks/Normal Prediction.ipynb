{
 "cells": [
  {
   "cell_type": "code",
   "execution_count": 1,
   "id": "de82bbe2",
   "metadata": {},
   "outputs": [],
   "source": [
    "import h5py"
   ]
  },
  {
   "cell_type": "code",
   "execution_count": 3,
   "id": "b8d6eb79",
   "metadata": {},
   "outputs": [],
   "source": [
    "f = h5py.File('../../datasets/modelnet_test', 'r')"
   ]
  },
  {
   "cell_type": "code",
   "execution_count": 6,
   "id": "71a6f751",
   "metadata": {},
   "outputs": [
    {
     "data": {
      "text/plain": [
       "<HDF5 dataset \"points\": shape (2468, 4096, 3), type \"<f4\">"
      ]
     },
     "execution_count": 6,
     "metadata": {},
     "output_type": "execute_result"
    }
   ],
   "source": [
    "f['points']"
   ]
  },
  {
   "cell_type": "code",
   "execution_count": 20,
   "id": "0ef2f92b",
   "metadata": {},
   "outputs": [
    {
     "data": {
      "application/vnd.jupyter.widget-view+json": {
       "model_id": "656d0749b0454e5783dca53b5a920a3e",
       "version_major": 2,
       "version_minor": 0
      },
      "text/plain": [
       "Output()"
      ]
     },
     "metadata": {},
     "output_type": "display_data"
    }
   ],
   "source": [
    "import k3d\n",
    "# k3d.points(f['points'][20][:], point_size=0.01)\n",
    "k3d.vectors(origins=f['points'][20][:], vectors=f['point_normals'][20][:])"
   ]
  },
  {
   "cell_type": "code",
   "execution_count": 23,
   "id": "31a97b31",
   "metadata": {},
   "outputs": [
    {
     "data": {
      "text/plain": [
       "array([34.520233, 33.833126, 28.984823, ..., 37.794834, 36.680023,\n",
       "       35.602394], dtype=float32)"
      ]
     },
     "execution_count": 23,
     "metadata": {},
     "output_type": "execute_result"
    }
   ],
   "source": [
    "(f['point_normals'][20][:]**2).sum(axis=1)"
   ]
  },
  {
   "cell_type": "code",
   "execution_count": 28,
   "id": "99fccd8d",
   "metadata": {},
   "outputs": [],
   "source": [
    "import torch\n",
    "import torch.nn.functional as F"
   ]
  },
  {
   "cell_type": "code",
   "execution_count": 29,
   "id": "454ac930",
   "metadata": {},
   "outputs": [],
   "source": [
    "v1 = torch.rand(4, 128)\n",
    "v2 = torch.rand(4, 128)\n",
    "sample_idx = torch.tensor([0, 1, 2, 3])\n",
    "labels = torch.tensor([0, 0, 2, 3])"
   ]
  },
  {
   "cell_type": "code",
   "execution_count": 54,
   "id": "18f2484f",
   "metadata": {},
   "outputs": [],
   "source": [
    "def contrastive_loss_with_one_pos(v1_embeddings, v2_embeddings,\n",
    "                                  anchor_mode, support_mode,\n",
    "                                  sample_idx1, sample_idx2,\n",
    "                                  labels1, labels2,\n",
    "                                  discard_self_sim):\n",
    "    batch_size = v1_embeddings.size(0)\n",
    "    positive_mask = torch.eq(sample_idx1.view(-1, 1), sample_idx2.view(1, -1))  # true where samples' ids are equal\n",
    "    denum_mask = torch.eq(labels1.view(-1, 1),\n",
    "                          labels2.view(1, -1))  # mask to discard false negatives from denumerator\n",
    "\n",
    "    v1_embeddings = F.normalize(v1_embeddings, dim=1)\n",
    "    v2_embeddings = F.normalize(v2_embeddings, dim=1)\n",
    "\n",
    "    if support_mode == 'one':\n",
    "        support_repeat = 1\n",
    "        embeddings = v2_embeddings\n",
    "    elif support_mode == 'all':\n",
    "        support_repeat = 2\n",
    "        embeddings = torch.cat((v1_embeddings, v2_embeddings), dim=0)\n",
    "\n",
    "    if anchor_mode == 'one':\n",
    "        anchor_feature = v1_embeddings\n",
    "        anchor_count = 1\n",
    "    elif anchor_mode == 'all':\n",
    "        anchor_feature = embeddings\n",
    "        anchor_count = 2\n",
    "\n",
    "    positive_mask = positive_mask.repeat(anchor_count, support_repeat).float()\n",
    "    denum_mask = denum_mask.repeat(anchor_count, support_repeat)\n",
    "\n",
    "    if discard_self_sim:\n",
    "        logits_mask = torch.scatter(\n",
    "            torch.ones_like(positive_mask),\n",
    "            1,\n",
    "            torch.arange(batch_size * anchor_count).view(-1, 1).to(positive_mask.device),\n",
    "            0\n",
    "        )\n",
    "        \n",
    "    else:\n",
    "        logits_mask = torch.ones_like(positive_mask)\n",
    "\n",
    "    positive_mask *= logits_mask\n",
    "    denum_mask &= ~positive_mask.bool()\n",
    "\n",
    "    logits = anchor_feature @ embeddings.T\n",
    "    logits.masked_fill_(denum_mask, -100)\n",
    "\n",
    "    log_probs = logits - torch.logsumexp(logits, dim=1).unsqueeze(1)\n",
    "\n",
    "    mean_over_pos = (log_probs * positive_mask).sum(dim=1) / positive_mask.sum(dim=1)\n",
    "    loss = -mean_over_pos.mean()\n",
    "\n",
    "    return loss"
   ]
  },
  {
   "cell_type": "code",
   "execution_count": 55,
   "id": "46f6d65f",
   "metadata": {},
   "outputs": [
    {
     "name": "stdout",
     "output_type": "stream",
     "text": [
      "tensor([[ True,  True, False, False,  True,  True, False, False],\n",
      "        [ True,  True, False, False,  True,  True, False, False],\n",
      "        [False, False,  True, False, False, False,  True, False],\n",
      "        [False, False, False,  True, False, False, False,  True],\n",
      "        [ True,  True, False, False,  True,  True, False, False],\n",
      "        [ True,  True, False, False,  True,  True, False, False],\n",
      "        [False, False,  True, False, False, False,  True, False],\n",
      "        [False, False, False,  True, False, False, False,  True]])\n",
      "tensor([[ True,  True, False, False, False,  True, False, False],\n",
      "        [ True,  True, False, False,  True, False, False, False],\n",
      "        [False, False,  True, False, False, False, False, False],\n",
      "        [False, False, False,  True, False, False, False, False],\n",
      "        [False,  True, False, False,  True,  True, False, False],\n",
      "        [ True, False, False, False,  True,  True, False, False],\n",
      "        [False, False, False, False, False, False,  True, False],\n",
      "        [False, False, False, False, False, False, False,  True]])\n",
      "tensor([[0., 0., 0., 0., 1., 0., 0., 0.],\n",
      "        [0., 0., 0., 0., 0., 1., 0., 0.],\n",
      "        [0., 0., 0., 0., 0., 0., 1., 0.],\n",
      "        [0., 0., 0., 0., 0., 0., 0., 1.],\n",
      "        [1., 0., 0., 0., 0., 0., 0., 0.],\n",
      "        [0., 1., 0., 0., 0., 0., 0., 0.],\n",
      "        [0., 0., 1., 0., 0., 0., 0., 0.],\n",
      "        [0., 0., 0., 1., 0., 0., 0., 0.]])\n"
     ]
    },
    {
     "data": {
      "text/plain": [
       "tensor(1.7741)"
      ]
     },
     "execution_count": 55,
     "metadata": {},
     "output_type": "execute_result"
    }
   ],
   "source": [
    "contrastive_loss_with_one_pos(v1, v2, 'all', 'all', sample_idx, sample_idx, labels, labels, True)"
   ]
  },
  {
   "cell_type": "code",
   "execution_count": null,
   "id": "a764e58f",
   "metadata": {},
   "outputs": [],
   "source": []
  },
  {
   "cell_type": "code",
   "execution_count": null,
   "id": "618b3aeb",
   "metadata": {},
   "outputs": [],
   "source": []
  }
 ],
 "metadata": {
  "kernelspec": {
   "display_name": "Python 3",
   "language": "python",
   "name": "python3"
  },
  "language_info": {
   "codemirror_mode": {
    "name": "ipython",
    "version": 3
   },
   "file_extension": ".py",
   "mimetype": "text/x-python",
   "name": "python",
   "nbconvert_exporter": "python",
   "pygments_lexer": "ipython3",
   "version": "3.8.12"
  }
 },
 "nbformat": 4,
 "nbformat_minor": 5
}
