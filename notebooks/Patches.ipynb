{
 "cells": [
  {
   "cell_type": "code",
   "execution_count": 10,
   "id": "c717867e",
   "metadata": {},
   "outputs": [],
   "source": [
    "import sys\n",
    "sys.path.insert(0, '..')\n",
    "\n",
    "import torch\n",
    "import numpy as np\n",
    "import k3d\n",
    "import seaborn as sns\n",
    "from sklearn.cluster import KMeans\n",
    "from datasets import ShapeNetDataset, PointCloudNormalize\n",
    "from torch.utils.data import DataLoader\n",
    "from collections import defaultdict\n",
    "from joblib import Parallel, delayed\n",
    "from faiss import Kmeans, PCAMatrix\n",
    "from tqdm.auto import tqdm\n",
    "import seaborn as sns\n",
    "import matplotlib.pyplot as plt\n",
    "import h5py"
   ]
  },
  {
   "cell_type": "code",
   "execution_count": 2,
   "id": "729c6f51",
   "metadata": {},
   "outputs": [],
   "source": [
    "def convert_labels(patch_labels, point_labels, mapping):\n",
    "    labels = np.zeros_like(point_labels)\n",
    "\n",
    "    for (sample_idx, patch_idx), patch_label in zip(mapping, patch_labels):\n",
    "        labels[sample_idx][point_labels[sample_idx] == patch_idx] = patch_label\n",
    "\n",
    "    return labels\n",
    "\n",
    "\n",
    "def cluster(k_range, features):\n",
    "    def worker(k, features):\n",
    "        clt = Kmeans(features.shape[1], k, niter=200, nredo=3, spherical=False, seed=0)\n",
    "        clt.train(features)\n",
    "        _, labels = clt.index.search(features, 1)\n",
    "        return clt.centroids, labels[:, 0]\n",
    "    \n",
    "    results = Parallel(n_jobs=120, backend='threading', verbose=True)(delayed(worker)(k, features)\n",
    "                                                            for k in k_range)\n",
    "    \n",
    "    return results\n",
    "\n",
    "\n",
    "def calc_iou(loader, points_labels):\n",
    "    cls_partset = defaultdict(lambda: set())\n",
    "    \n",
    "    for (_, inst_label), labels in tqdm(zip(loader, points_labels), total=len(points_labels)):\n",
    "        cls_partset[inst_label] |= set(labels)\n",
    "        \n",
    "    n_classes = len(cls_partset)\n",
    "    ious = np.zeros((n_classes, n_classes))\n",
    "    \n",
    "    for i, parts1 in enumerate(cls_partset.values()):\n",
    "        for j, parts2 in enumerate(cls_partset.values()):\n",
    "            ious[i, j] = len(parts1 & parts2) / len(parts1 | parts2)\n",
    "            \n",
    "    unique_pairs = (n_classes - 1) * n_classes / 2\n",
    "    mean_score = np.triu(ious, k=1).sum() / unique_pairs   \n",
    "    return ious, mean_score"
   ]
  },
  {
   "cell_type": "code",
   "execution_count": 3,
   "id": "0b2443ab",
   "metadata": {},
   "outputs": [],
   "source": [
    "category2synset = {\n",
    "    'airplane': '2691156',\n",
    "    'ashcan': '2747177',\n",
    "    'bag': '2773838',\n",
    "    'basket': '2801938',\n",
    "    'bathtub': '2808440',\n",
    "    'bed': '2818832',\n",
    "    'bench': '2828884',\n",
    "    'birdhouse': '2843684',\n",
    "    'bookshelf': '2871439',\n",
    "    'bottle': '2876657',\n",
    "    'bowl': '2880940',\n",
    "    'bus': '2924116',\n",
    "    'cabinet': '2933112',\n",
    "    'camera': '2942699',\n",
    "    'can': '2946921',\n",
    "    'cap': '2954340',\n",
    "    'car': '2958343',\n",
    "    'chair': '3001627',\n",
    "    'clock': '3046257',\n",
    "    'computer keyboard': '3085013',\n",
    "    'dishwasher': '3207941',\n",
    "    'display': '3211117',\n",
    "    'earphone': '3261776',\n",
    "    'faucet': '3325088',\n",
    "    'file': '3337140',\n",
    "    'guitar': '3467517',\n",
    "    'helmet': '3513137',\n",
    "    'jar': '3593526',\n",
    "    'knife': '3624134',\n",
    "    'lamp': '3636649',\n",
    "    'laptop': '3642806',\n",
    "    'loudspeaker': '3691459',\n",
    "    'mailbox': '3710193',\n",
    "    'microphone': '3759954',\n",
    "    'microwave': '3761084',\n",
    "    'motorcycle': '3790512',\n",
    "    'mug': '3797390',\n",
    "    'piano': '3928116',\n",
    "    'pillow': '3938244',\n",
    "    'pistol': '3948459',\n",
    "    'pot': '3991062',\n",
    "    'printer': '4004475',\n",
    "    'remote control': '4074963',\n",
    "    'rifle': '4090263',\n",
    "    'rocket': '4099429',\n",
    "    'skateboard': '4225987',\n",
    "    'sofa': '4256520',\n",
    "    'stove': '4330267',\n",
    "    'table': '4379243',\n",
    "    'telephone': '4401088',\n",
    "    'cellular telephone': '2992529',\n",
    "    'tower': '4460130',\n",
    "    'train': '4468005',\n",
    "    'vessel': '4530566',\n",
    "    'washer': '4554684'\n",
    "}"
   ]
  },
  {
   "cell_type": "code",
   "execution_count": 4,
   "id": "967ac4a9",
   "metadata": {},
   "outputs": [],
   "source": [
    "data = np.load('../../datasets/shapenet_sym.npz')\n",
    "dataset = ShapeNetDataset('../../datasets/hdfs/shapenet.h5', ['train', 'val', 'test'], ['all'])"
   ]
  },
  {
   "cell_type": "code",
   "execution_count": 5,
   "id": "313736a6",
   "metadata": {},
   "outputs": [
    {
     "data": {
      "text/plain": [
       "['points_local_labels', 'patch_embeddings', 'patch_points_map']"
      ]
     },
     "execution_count": 5,
     "metadata": {},
     "output_type": "execute_result"
    }
   ],
   "source": [
    "list(data.keys())"
   ]
  },
  {
   "cell_type": "code",
   "execution_count": 6,
   "id": "f5e29a2a",
   "metadata": {},
   "outputs": [
    {
     "name": "stderr",
     "output_type": "stream",
     "text": [
      "[Parallel(n_jobs=120)]: Using backend ThreadingBackend with 120 concurrent workers.\n",
      "[Parallel(n_jobs=120)]: Done  12 out of  17 | elapsed:  1.0min remaining:   25.3s\n",
      "[Parallel(n_jobs=120)]: Done  17 out of  17 | elapsed:  1.1min finished\n"
     ]
    }
   ],
   "source": [
    "k_range = list(range(20, 105, 5))\n",
    "clt_results = cluster(k_range, data['patch_embeddings'])"
   ]
  },
  {
   "cell_type": "code",
   "execution_count": 7,
   "id": "aeb8bd40",
   "metadata": {},
   "outputs": [
    {
     "data": {
      "application/vnd.jupyter.widget-view+json": {
       "model_id": "c75cda81d9674fcca58ee9710972071f",
       "version_major": 2,
       "version_minor": 0
      },
      "text/plain": [
       "  0%|          | 0/17 [00:00<?, ?it/s]"
      ]
     },
     "metadata": {},
     "output_type": "display_data"
    }
   ],
   "source": [
    "points_labels_set = []\n",
    "\n",
    "for _, patch_labels in tqdm(clt_results):\n",
    "    l = convert_labels(patch_labels, data['points_local_labels'], data['patch_points_map'])\n",
    "    points_labels_set.append(l)"
   ]
  },
  {
   "cell_type": "code",
   "execution_count": 8,
   "id": "bcbca001",
   "metadata": {},
   "outputs": [
    {
     "data": {
      "application/vnd.jupyter.widget-view+json": {
       "model_id": "4724bedefe914523b40e9f06e9d8326d",
       "version_major": 2,
       "version_minor": 0
      },
      "text/plain": [
       "  0%|          | 0/52396 [00:00<?, ?it/s]"
      ]
     },
     "metadata": {},
     "output_type": "display_data"
    },
    {
     "data": {
      "application/vnd.jupyter.widget-view+json": {
       "model_id": "17ebee9444af4c0389f46145d808cca3",
       "version_major": 2,
       "version_minor": 0
      },
      "text/plain": [
       "  0%|          | 0/52396 [00:00<?, ?it/s]"
      ]
     },
     "metadata": {},
     "output_type": "display_data"
    },
    {
     "data": {
      "application/vnd.jupyter.widget-view+json": {
       "model_id": "4925467a0ae5469796e18ac39155c624",
       "version_major": 2,
       "version_minor": 0
      },
      "text/plain": [
       "  0%|          | 0/52396 [00:00<?, ?it/s]"
      ]
     },
     "metadata": {},
     "output_type": "display_data"
    },
    {
     "data": {
      "application/vnd.jupyter.widget-view+json": {
       "model_id": "3b139da6efbe4b3487ba6127fa0c69cb",
       "version_major": 2,
       "version_minor": 0
      },
      "text/plain": [
       "  0%|          | 0/52396 [00:00<?, ?it/s]"
      ]
     },
     "metadata": {},
     "output_type": "display_data"
    },
    {
     "data": {
      "application/vnd.jupyter.widget-view+json": {
       "model_id": "27129bff31e947c5bd795de824eb44c9",
       "version_major": 2,
       "version_minor": 0
      },
      "text/plain": [
       "  0%|          | 0/52396 [00:00<?, ?it/s]"
      ]
     },
     "metadata": {},
     "output_type": "display_data"
    },
    {
     "data": {
      "application/vnd.jupyter.widget-view+json": {
       "model_id": "5ed4315f3dfb4f2d921e7bcc4a63d7c0",
       "version_major": 2,
       "version_minor": 0
      },
      "text/plain": [
       "  0%|          | 0/52396 [00:00<?, ?it/s]"
      ]
     },
     "metadata": {},
     "output_type": "display_data"
    },
    {
     "data": {
      "application/vnd.jupyter.widget-view+json": {
       "model_id": "1c667f7994004fa4a7f7e628bf3f4c0d",
       "version_major": 2,
       "version_minor": 0
      },
      "text/plain": [
       "  0%|          | 0/52396 [00:00<?, ?it/s]"
      ]
     },
     "metadata": {},
     "output_type": "display_data"
    },
    {
     "data": {
      "application/vnd.jupyter.widget-view+json": {
       "model_id": "721f2e98cdae4a65aa5875e1d56f5c80",
       "version_major": 2,
       "version_minor": 0
      },
      "text/plain": [
       "  0%|          | 0/52396 [00:00<?, ?it/s]"
      ]
     },
     "metadata": {},
     "output_type": "display_data"
    },
    {
     "data": {
      "application/vnd.jupyter.widget-view+json": {
       "model_id": "6e7d6423a37d48bb895022eae30ee829",
       "version_major": 2,
       "version_minor": 0
      },
      "text/plain": [
       "  0%|          | 0/52396 [00:00<?, ?it/s]"
      ]
     },
     "metadata": {},
     "output_type": "display_data"
    },
    {
     "data": {
      "application/vnd.jupyter.widget-view+json": {
       "model_id": "437b55088c3348feacb8fefc4a6486a3",
       "version_major": 2,
       "version_minor": 0
      },
      "text/plain": [
       "  0%|          | 0/52396 [00:00<?, ?it/s]"
      ]
     },
     "metadata": {},
     "output_type": "display_data"
    },
    {
     "data": {
      "application/vnd.jupyter.widget-view+json": {
       "model_id": "0f8e2cffb2234da69ec9211645b0fe55",
       "version_major": 2,
       "version_minor": 0
      },
      "text/plain": [
       "  0%|          | 0/52396 [00:00<?, ?it/s]"
      ]
     },
     "metadata": {},
     "output_type": "display_data"
    },
    {
     "data": {
      "application/vnd.jupyter.widget-view+json": {
       "model_id": "ec65b19acf7e42eca7ff6d0e5afa94d6",
       "version_major": 2,
       "version_minor": 0
      },
      "text/plain": [
       "  0%|          | 0/52396 [00:00<?, ?it/s]"
      ]
     },
     "metadata": {},
     "output_type": "display_data"
    },
    {
     "data": {
      "application/vnd.jupyter.widget-view+json": {
       "model_id": "d53063b789bf430180ff372540109af2",
       "version_major": 2,
       "version_minor": 0
      },
      "text/plain": [
       "  0%|          | 0/52396 [00:00<?, ?it/s]"
      ]
     },
     "metadata": {},
     "output_type": "display_data"
    },
    {
     "data": {
      "application/vnd.jupyter.widget-view+json": {
       "model_id": "4ec7d7847f414c9cb080da57708c7fb3",
       "version_major": 2,
       "version_minor": 0
      },
      "text/plain": [
       "  0%|          | 0/52396 [00:00<?, ?it/s]"
      ]
     },
     "metadata": {},
     "output_type": "display_data"
    },
    {
     "data": {
      "application/vnd.jupyter.widget-view+json": {
       "model_id": "c17497bc162e42f1aee2b0cdb6512272",
       "version_major": 2,
       "version_minor": 0
      },
      "text/plain": [
       "  0%|          | 0/52396 [00:00<?, ?it/s]"
      ]
     },
     "metadata": {},
     "output_type": "display_data"
    },
    {
     "data": {
      "application/vnd.jupyter.widget-view+json": {
       "model_id": "3b8380b8ce7245449da331c6370e9a49",
       "version_major": 2,
       "version_minor": 0
      },
      "text/plain": [
       "  0%|          | 0/52396 [00:00<?, ?it/s]"
      ]
     },
     "metadata": {},
     "output_type": "display_data"
    },
    {
     "data": {
      "application/vnd.jupyter.widget-view+json": {
       "model_id": "e30aa42c13194c9f883fc726842fd7c6",
       "version_major": 2,
       "version_minor": 0
      },
      "text/plain": [
       "  0%|          | 0/52396 [00:00<?, ?it/s]"
      ]
     },
     "metadata": {},
     "output_type": "display_data"
    }
   ],
   "source": [
    "metrics = [calc_iou(dataset, labels) for labels in points_labels_set]\n",
    "ious, mean_scores = list(map(list, zip(*metrics)))"
   ]
  },
  {
   "cell_type": "code",
   "execution_count": 9,
   "id": "fc715a07",
   "metadata": {},
   "outputs": [
    {
     "data": {
      "text/plain": [
       "<AxesSubplot:>"
      ]
     },
     "execution_count": 9,
     "metadata": {},
     "output_type": "execute_result"
    },
    {
     "data": {
      "image/png": "[encoded data removed]",
      "text/plain": [
       "<Figure size 720x720 with 2 Axes>"
      ]
     },
     "metadata": {
      "needs_background": "light"
     },
     "output_type": "display_data"
    }
   ],
   "source": [
    "plt.figure(figsize=(10, 10))\n",
    "sns.heatmap(ious[-1],\n",
    "            xticklabels=category2synset.keys(),\n",
    "            yticklabels=category2synset.keys(),\n",
    "            cmap=sns.color_palette(\"icefire\", as_cmap=True))"
   ]
  },
  {
   "cell_type": "code",
   "execution_count": 10,
   "id": "02fca94a",
   "metadata": {},
   "outputs": [],
   "source": [
    "centroids, patch_labels = list(map(list, zip(*clt_results)))\n",
    "points_labels_set = np.array(points_labels_set)"
   ]
  },
  {
   "cell_type": "code",
   "execution_count": 11,
   "id": "d6e6f2c2",
   "metadata": {},
   "outputs": [],
   "source": [
    "with h5py.File('../../datasets/shapenet_labels_global.h5', 'w') as f:\n",
    "    start_idx = 0\n",
    "    f.create_dataset('k_range', data=np.array(k_range), dtype='i4', compression='gzip')\n",
    "    f.create_dataset('patch_embeddings', data=data['patch_embeddings'], dtype='f4', compression='gzip')\n",
    "    f.create_dataset('patch_labels', data=np.array(patch_labels), dtype='i4', compression='gzip')\n",
    "    f.create_dataset('scores', data=mean_scores, dtype='f4', compression='gzip')\n",
    "    \n",
    "    for split in ('train', 'val', 'test'):\n",
    "        group = f.create_group(split)\n",
    "        split_size = dataset.split_sizes[split]\n",
    "        end_idx = start_idx + split_size\n",
    "        \n",
    "        group.create_dataset('global_labels', data=points_labels_set[:, start_idx:end_idx],\n",
    "                             dtype='i4', compression='gzip')\n",
    "        \n",
    "        group.create_dataset('local_labels', data=data['points_local_labels'][start_idx:end_idx],\n",
    "                             dtype='i4', compression='gzip')\n",
    "        \n",
    "        start_idx = end_idx"
   ]
  },
  {
   "cell_type": "code",
   "execution_count": 3,
   "id": "d5bf0d65",
   "metadata": {},
   "outputs": [],
   "source": [
    "f = h5py.File('../../datasets/shapenet_labels_global.h5', 'r')"
   ]
  },
  {
   "cell_type": "code",
   "execution_count": 4,
   "id": "36fad686",
   "metadata": {},
   "outputs": [],
   "source": [
    "dataset = ShapeNetDataset('../../datasets/hdfs/shapenet.h5', ['train', 'test'], ['all'],\n",
    "                          points_labels_path='../../datasets/shapenet_labels_global.h5',\n",
    "                          point_labels_level='global', n_classes=40)"
   ]
  },
  {
   "cell_type": "code",
   "execution_count": 7,
   "id": "0545f110",
   "metadata": {},
   "outputs": [],
   "source": [
    "p, l = dataset[35000]"
   ]
  },
  {
   "cell_type": "code",
   "execution_count": 8,
   "id": "e5bb24e9",
   "metadata": {},
   "outputs": [
    {
     "data": {
      "application/vnd.jupyter.widget-view+json": {
       "model_id": "e825be5290984f8a89f1f79cfcf1ce6a",
       "version_major": 2,
       "version_minor": 0
      },
      "text/plain": [
       "Output()"
      ]
     },
     "metadata": {},
     "output_type": "display_data"
    }
   ],
   "source": [
    "k3d.points(p.T, attribute=l, point_size=0.01)"
   ]
  },
  {
   "cell_type": "code",
   "execution_count": 62,
   "id": "8ff4ed0f",
   "metadata": {},
   "outputs": [
    {
     "data": {
      "text/plain": [
       "{4, 19, 32, 37}"
      ]
     },
     "execution_count": 62,
     "metadata": {},
     "output_type": "execute_result"
    }
   ],
   "source": [
    "set(l)"
   ]
  },
  {
   "cell_type": "code",
   "execution_count": 16,
   "id": "f2d4362e",
   "metadata": {},
   "outputs": [],
   "source": [
    "patch_embeddings = f['patch_embeddings'][:40000]"
   ]
  },
  {
   "cell_type": "code",
   "execution_count": 17,
   "id": "7f5dc2ea",
   "metadata": {},
   "outputs": [],
   "source": [
    "patch_labels = f['patch_labels'][0, :40000]"
   ]
  },
  {
   "cell_type": "code",
   "execution_count": 38,
   "id": "8e00507d",
   "metadata": {},
   "outputs": [],
   "source": [
    "def prepare_queue_initialization(patch_embeddings, patch_labels, size_per_cls, emb_dim):\n",
    "    pca = PCAMatrix(patch_embeddings.shape[1], emb_dim)\n",
    "    pca.train(patch_embeddings)\n",
    "    patch_embeddings = pca.apply_py(patch_embeddings)\n",
    "    labels = np.unique(patch_labels)\n",
    "    data = []\n",
    "\n",
    "    for l in labels:\n",
    "        embs = patch_embeddings[patch_labels == l]\n",
    "        embs_size = embs.shape[0]\n",
    "        if embs_size < size_per_cls:\n",
    "            print(embs_size)\n",
    "            pad_size = size_per_cls - embs.shape[0]\n",
    "            pad = np.random.randn(pad_size, emb_dim)\n",
    "            embs = np.concatenate((embs, pad), axis=0)\n",
    "        elif embs_size > size_per_cls:\n",
    "            perm = np.random.permutation(embs_size)[:size_per_cls]\n",
    "            embs = embs[perm]\n",
    "\n",
    "        data.append(embs)\n",
    "\n",
    "    data = np.array(data)\n",
    "\n",
    "    return torch.from_numpy(data)"
   ]
  },
  {
   "cell_type": "code",
   "execution_count": 39,
   "id": "89f3c144",
   "metadata": {},
   "outputs": [
    {
     "name": "stdout",
     "output_type": "stream",
     "text": [
      "119\n",
      "777\n",
      "685\n",
      "730\n",
      "351\n",
      "530\n"
     ]
    }
   ],
   "source": [
    "init = prepare_queue_initialization(patch_embeddings, patch_labels, 1000, 128)"
   ]
  },
  {
   "cell_type": "code",
   "execution_count": 41,
   "id": "c170c7f2",
   "metadata": {},
   "outputs": [
    {
     "data": {
      "text/plain": [
       "torch.Size([20, 1000, 128])"
      ]
     },
     "execution_count": 41,
     "metadata": {},
     "output_type": "execute_result"
    }
   ],
   "source": [
    "init.shape"
   ]
  },
  {
   "cell_type": "code",
   "execution_count": 27,
   "id": "7bc18dfb",
   "metadata": {},
   "outputs": [],
   "source": [
    "from collections import Counter"
   ]
  },
  {
   "cell_type": "code",
   "execution_count": 28,
   "id": "d63a2867",
   "metadata": {},
   "outputs": [],
   "source": [
    "c = Counter()\n",
    "c.update(patch_labels)"
   ]
  },
  {
   "cell_type": "code",
   "execution_count": 34,
   "id": "0b7370a5",
   "metadata": {},
   "outputs": [
    {
     "data": {
      "text/plain": [
       "26.872690628149144"
      ]
     },
     "execution_count": 34,
     "metadata": {},
     "output_type": "execute_result"
    }
   ],
   "source": [
    "40000 / np.median(list(c.values()))"
   ]
  },
  {
   "cell_type": "code",
   "execution_count": null,
   "id": "61639a15",
   "metadata": {},
   "outputs": [],
   "source": []
  }
 ],
 "metadata": {
  "kernelspec": {
   "display_name": "Python 3",
   "language": "python",
   "name": "python3"
  },
  "language_info": {
   "codemirror_mode": {
    "name": "ipython",
    "version": 3
   },
   "file_extension": ".py",
   "mimetype": "text/x-python",
   "name": "python",
   "nbconvert_exporter": "python",
   "pygments_lexer": "ipython3",
   "version": "3.8.12"
  }
 },
 "nbformat": 4,
 "nbformat_minor": 5
}
