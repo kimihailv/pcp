{
 "cells": [
  {
   "cell_type": "code",
   "execution_count": 1,
   "id": "3b37ed80",
   "metadata": {},
   "outputs": [],
   "source": [
    "import torch\n",
    "import torch.nn as nn\n",
    "import torch.nn.functional as F\n",
    "import numpy as np\n",
    "import sys\n",
    "import h5py\n",
    "sys.path.insert(0, '..')\n",
    "from models import PointNet, DGCNNSegBackbone\n",
    "from datasets import PointCloudNormalize, ABCDataset\n",
    "from torch.utils.data import Dataset, DataLoader\n",
    "from utils.training_routines import RunningMetrics\n",
    "from tqdm import tqdm\n"
   ]
  },
  {
   "cell_type": "markdown",
   "id": "09fc78d0",
   "metadata": {},
   "source": [
    "## Parameters"
   ]
  },
  {
   "cell_type": "code",
   "execution_count": 2,
   "id": "d0f62ab6",
   "metadata": {},
   "outputs": [],
   "source": [
    "device = 'cuda:0'\n",
    "exp_id = 'z52pya7i'\n",
    "n_epochs = 50\n",
    "lr = 5e-4\n",
    "weight_decay = 1e-5"
   ]
  },
  {
   "cell_type": "code",
   "execution_count": 3,
   "id": "696ce780",
   "metadata": {},
   "outputs": [],
   "source": [
    "class Regressor(nn.Module):\n",
    "    def __init__(self, backbone, finetune_head=False):\n",
    "        super().__init__()\n",
    "        self.backbone = backbone\n",
    "        if finetune_head:\n",
    "            for p in self.backbone.parameters():\n",
    "                p.requires_grad = False\n",
    "                \n",
    "        self.head = nn.Sequential(\n",
    "            nn.Conv1d(self.backbone.n_output_point, 512, 1),\n",
    "            nn.BatchNorm1d(512),\n",
    "            nn.ReLU(True),\n",
    "            nn.Conv1d(512, 256, 1),\n",
    "            nn.BatchNorm1d(256),\n",
    "            nn.ReLU(True),\n",
    "            nn.Conv1d(256, 1, 1)\n",
    "        )\n",
    "        \n",
    "    def forward(self, x):\n",
    "        features = self.backbone.forward_features(x)\n",
    "        return self.head(features).squeeze(1)\n",
    "    \n",
    "def compute_loss(gt, pred):\n",
    "    log_gt = torch.log1p(gt)\n",
    "    \n",
    "    return (pred - log_gt).pow(2).mean()\n",
    "\n",
    "def compute_mse(gt, pred):\n",
    "    pred = torch.expm1(pred)\n",
    "    return (pred - gt).pow(2).mean()\n",
    "\n",
    "@torch.no_grad()\n",
    "def validate(model, loader):\n",
    "    model.eval()\n",
    "    preds = []\n",
    "    gts = []\n",
    "    bar = tqdm(loader, desc='val')\n",
    "    metrics = RunningMetrics()\n",
    "    \n",
    "    for x, gt in bar:\n",
    "        pred = model(x.to(device))\n",
    "        preds.append(pred.cpu())\n",
    "        gts.append(gt)\n",
    "        metrics.step({'loss': compute_loss(gt, pred.cpu())})\n",
    "        bar.set_postfix(metrics.report())\n",
    "    \n",
    "    preds = torch.cat(preds, dim=0)\n",
    "    gts = torch.cat(gts, dim=0)\n",
    "    loss = compute_mse(gts, preds).item()\n",
    "    print(metrics.report())\n",
    "    \n",
    "    print('val loss', loss)\n",
    "    return loss\n",
    "\n",
    "def train(model, train_loader, test_loader, optimizer, scheduler, n_epochs, val_every=1):\n",
    "    val_loss_list = []\n",
    "    for epoch in range(1, n_epochs + 1):\n",
    "        bar = tqdm(train_loader)\n",
    "        model.train()\n",
    "        metrics = RunningMetrics()\n",
    "        \n",
    "        for x, gt in bar:\n",
    "            optimizer.zero_grad()\n",
    "            pred = model(x.to(device))\n",
    "            loss = compute_loss(gt.to(device), pred) + 0.001 * model.backbone.reg\n",
    "            loss.backward()\n",
    "            optimizer.step()\n",
    "            metrics.step({'loss': loss})\n",
    "            report = metrics.report()\n",
    "            report.update({'epoch': epoch})\n",
    "            bar.set_postfix(report)\n",
    "            \n",
    "            scheduler.step()\n",
    "        \n",
    "        if epoch % val_every == 0:\n",
    "            val_loss = validate(model, test_loader)\n",
    "            val_loss_list.append(val_loss)\n",
    "            \n",
    "    return val_loss_list\n",
    "            \n",
    "def get_model(exp_id, n_epochs, finetune_head, lr, weight_decay):\n",
    "    model = PointNet()\n",
    "    # model = DGCNNSegBackbone()\n",
    "    if exp_id is not None:\n",
    "        checkpoint_path = f'../weights/simclr_run_{exp_id}_ckp_150.pt'\n",
    "        state = torch.load(checkpoint_path, map_location='cpu')['model']\n",
    "        model.load_state_dict(state)\n",
    "        \n",
    "    model = Regressor(model, finetune_head).to(device)\n",
    "    optimizer = torch.optim.Adam(filter(lambda x: x.requires_grad,\n",
    "                                        model.parameters()),\n",
    "                                 lr=lr, weight_decay=weight_decay)\n",
    "    scheduler = torch.optim.lr_scheduler.CosineAnnealingLR(optimizer, T_max=n_epochs * len(train_loader), eta_min=0)\n",
    "    return model, optimizer, scheduler"
   ]
  },
  {
   "cell_type": "code",
   "execution_count": 4,
   "id": "8f735355",
   "metadata": {},
   "outputs": [],
   "source": [
    "dataset_path = '../../datasets/hdfs/train_0.hdf5'"
   ]
  },
  {
   "cell_type": "markdown",
   "id": "dd396989",
   "metadata": {},
   "source": [
    "## Simple training"
   ]
  },
  {
   "cell_type": "markdown",
   "id": "7d128cb7",
   "metadata": {},
   "source": [
    "### Only head"
   ]
  },
  {
   "cell_type": "code",
   "execution_count": 5,
   "id": "952f98de",
   "metadata": {},
   "outputs": [],
   "source": [
    "train_ds = ABCDataset(dataset_path,\n",
    "                      'train',\n",
    "                      'distances',\n",
    "                      transform=PointCloudNormalize('box'))\n",
    "test_ds = ABCDataset(dataset_path,\n",
    "                     'test',\n",
    "                     'distances',\n",
    "                     transform=PointCloudNormalize('box'))\n",
    "\n",
    "train_loader = DataLoader(train_ds, shuffle=True, batch_size=50)\n",
    "test_loader = DataLoader(test_ds, shuffle=False, batch_size=32)"
   ]
  },
  {
   "cell_type": "code",
   "execution_count": null,
   "id": "97cd19d2",
   "metadata": {},
   "outputs": [
    {
     "name": "stderr",
     "output_type": "stream",
     "text": [
      "100%|██████████| 230/230 [00:51<00:00,  4.45it/s, loss=0.0602, epoch=1]\n",
      "val: 100%|██████████| 154/154 [00:15<00:00,  9.74it/s, loss=0.0429]\n"
     ]
    },
    {
     "name": "stdout",
     "output_type": "stream",
     "text": [
      "{'loss': 0.04290205746984874}\n",
      "val loss 0.1440052084294357\n"
     ]
    },
    {
     "name": "stderr",
     "output_type": "stream",
     "text": [
      "100%|██████████| 230/230 [00:51<00:00,  4.43it/s, loss=0.0378, epoch=2]\n",
      "val: 100%|██████████| 154/154 [00:15<00:00,  9.89it/s, loss=0.0285]\n"
     ]
    },
    {
     "name": "stdout",
     "output_type": "stream",
     "text": [
      "{'loss': 0.028514715696312476}\n",
      "val loss 0.07573836657483042\n"
     ]
    },
    {
     "name": "stderr",
     "output_type": "stream",
     "text": [
      "100%|██████████| 230/230 [00:51<00:00,  4.45it/s, loss=0.0361, epoch=3]\n",
      "val: 100%|██████████| 154/154 [00:15<00:00,  9.69it/s, loss=0.0241]\n"
     ]
    },
    {
     "name": "stdout",
     "output_type": "stream",
     "text": [
      "{'loss': 0.024083847008247953}\n",
      "val loss 0.05845543656325018\n"
     ]
    },
    {
     "name": "stderr",
     "output_type": "stream",
     "text": [
      "100%|██████████| 230/230 [00:51<00:00,  4.44it/s, loss=0.0348, epoch=4]\n",
      "val: 100%|██████████| 154/154 [00:15<00:00, 10.05it/s, loss=0.0237]\n"
     ]
    },
    {
     "name": "stdout",
     "output_type": "stream",
     "text": [
      "{'loss': 0.02373604938469253}\n",
      "val loss 0.056172036891923884\n"
     ]
    },
    {
     "name": "stderr",
     "output_type": "stream",
     "text": [
      "100%|██████████| 230/230 [00:51<00:00,  4.44it/s, loss=0.0342, epoch=5]\n",
      "val: 100%|██████████| 154/154 [00:15<00:00,  9.90it/s, loss=0.0232]\n"
     ]
    },
    {
     "name": "stdout",
     "output_type": "stream",
     "text": [
      "{'loss': 0.02317105200309075}\n",
      "val loss 0.05606002627333372\n"
     ]
    },
    {
     "name": "stderr",
     "output_type": "stream",
     "text": [
      "100%|██████████| 230/230 [00:51<00:00,  4.43it/s, loss=0.0327, epoch=6]\n",
      "val: 100%|██████████| 154/154 [00:15<00:00,  9.72it/s, loss=0.0218]\n"
     ]
    },
    {
     "name": "stdout",
     "output_type": "stream",
     "text": [
      "{'loss': 0.02179211543670263}\n",
      "val loss 0.05216405704565748\n"
     ]
    },
    {
     "name": "stderr",
     "output_type": "stream",
     "text": [
      "100%|██████████| 230/230 [00:51<00:00,  4.43it/s, loss=0.0327, epoch=7]\n",
      "val: 100%|██████████| 154/154 [00:15<00:00,  9.68it/s, loss=0.0223]\n"
     ]
    },
    {
     "name": "stdout",
     "output_type": "stream",
     "text": [
      "{'loss': 0.022339994225786704}\n",
      "val loss 0.05703467986033338\n"
     ]
    },
    {
     "name": "stderr",
     "output_type": "stream",
     "text": [
      "100%|██████████| 230/230 [00:52<00:00,  4.42it/s, loss=0.0322, epoch=8]\n",
      "val: 100%|██████████| 154/154 [00:15<00:00,  9.94it/s, loss=0.0202]\n"
     ]
    },
    {
     "name": "stdout",
     "output_type": "stream",
     "text": [
      "{'loss': 0.020180170145031883}\n",
      "val loss 0.04756004284959714\n"
     ]
    },
    {
     "name": "stderr",
     "output_type": "stream",
     "text": [
      "100%|██████████| 230/230 [00:51<00:00,  4.44it/s, loss=0.0317, epoch=9]\n",
      "val: 100%|██████████| 154/154 [00:15<00:00,  9.84it/s, loss=0.0226]\n"
     ]
    },
    {
     "name": "stdout",
     "output_type": "stream",
     "text": [
      "{'loss': 0.02261083266566788}\n",
      "val loss 0.05691591855244864\n"
     ]
    },
    {
     "name": "stderr",
     "output_type": "stream",
     "text": [
      "100%|██████████| 230/230 [00:51<00:00,  4.43it/s, loss=0.0312, epoch=10]\n",
      "val: 100%|██████████| 154/154 [00:15<00:00, 10.00it/s, loss=0.0199]\n"
     ]
    },
    {
     "name": "stdout",
     "output_type": "stream",
     "text": [
      "{'loss': 0.0199176932145804}\n",
      "val loss 0.047248439634651286\n"
     ]
    },
    {
     "name": "stderr",
     "output_type": "stream",
     "text": [
      "100%|██████████| 230/230 [00:51<00:00,  4.43it/s, loss=0.0313, epoch=11]\n",
      "val: 100%|██████████| 154/154 [00:15<00:00,  9.72it/s, loss=0.022] \n"
     ]
    },
    {
     "name": "stdout",
     "output_type": "stream",
     "text": [
      "{'loss': 0.021959709962310312}\n",
      "val loss 0.051693054179567544\n"
     ]
    },
    {
     "name": "stderr",
     "output_type": "stream",
     "text": [
      "100%|██████████| 230/230 [00:51<00:00,  4.43it/s, loss=0.0305, epoch=12]\n",
      "val: 100%|██████████| 154/154 [00:15<00:00,  9.88it/s, loss=0.0204]\n"
     ]
    },
    {
     "name": "stdout",
     "output_type": "stream",
     "text": [
      "{'loss': 0.020423583918645294}\n",
      "val loss 0.048828604536478144\n"
     ]
    },
    {
     "name": "stderr",
     "output_type": "stream",
     "text": [
      "100%|██████████| 230/230 [00:51<00:00,  4.43it/s, loss=0.0305, epoch=13]\n",
      "val: 100%|██████████| 154/154 [00:15<00:00,  9.67it/s, loss=0.0197]\n"
     ]
    },
    {
     "name": "stdout",
     "output_type": "stream",
     "text": [
      "{'loss': 0.019675404518204636}\n",
      "val loss 0.04674584382822582\n"
     ]
    },
    {
     "name": "stderr",
     "output_type": "stream",
     "text": [
      "100%|██████████| 230/230 [00:51<00:00,  4.44it/s, loss=0.03, epoch=14]  \n",
      "val: 100%|██████████| 154/154 [00:15<00:00,  9.79it/s, loss=0.0194]\n"
     ]
    },
    {
     "name": "stdout",
     "output_type": "stream",
     "text": [
      "{'loss': 0.01937881184628861}\n",
      "val loss 0.045358671836784846\n"
     ]
    },
    {
     "name": "stderr",
     "output_type": "stream",
     "text": [
      "100%|██████████| 230/230 [00:51<00:00,  4.44it/s, loss=0.0298, epoch=15]\n",
      "val: 100%|██████████| 154/154 [00:15<00:00,  9.87it/s, loss=0.0202]\n"
     ]
    },
    {
     "name": "stdout",
     "output_type": "stream",
     "text": [
      "{'loss': 0.02017727884133224}\n",
      "val loss 0.04565814859259301\n"
     ]
    },
    {
     "name": "stderr",
     "output_type": "stream",
     "text": [
      "100%|██████████| 230/230 [00:51<00:00,  4.44it/s, loss=0.0299, epoch=16]\n",
      "val: 100%|██████████| 154/154 [00:15<00:00,  9.85it/s, loss=0.0191]\n"
     ]
    },
    {
     "name": "stdout",
     "output_type": "stream",
     "text": [
      "{'loss': 0.019137559444403318}\n",
      "val loss 0.04522634007229104\n"
     ]
    },
    {
     "name": "stderr",
     "output_type": "stream",
     "text": [
      "100%|██████████| 230/230 [00:51<00:00,  4.44it/s, loss=0.0295, epoch=17]\n",
      "val: 100%|██████████| 154/154 [00:15<00:00, 10.16it/s, loss=0.0187]\n"
     ]
    },
    {
     "name": "stdout",
     "output_type": "stream",
     "text": [
      "{'loss': 0.018715980423143555}\n",
      "val loss 0.043476503851420226\n"
     ]
    },
    {
     "name": "stderr",
     "output_type": "stream",
     "text": [
      "100%|██████████| 230/230 [00:51<00:00,  4.43it/s, loss=0.0293, epoch=18]\n",
      "val: 100%|██████████| 154/154 [00:15<00:00,  9.93it/s, loss=0.0201]\n"
     ]
    },
    {
     "name": "stdout",
     "output_type": "stream",
     "text": [
      "{'loss': 0.02013794497675849}\n",
      "val loss 0.049023428268717285\n"
     ]
    },
    {
     "name": "stderr",
     "output_type": "stream",
     "text": [
      "100%|██████████| 230/230 [00:51<00:00,  4.42it/s, loss=0.0294, epoch=19]\n",
      "val: 100%|██████████| 154/154 [00:15<00:00,  9.76it/s, loss=0.022] \n"
     ]
    },
    {
     "name": "stdout",
     "output_type": "stream",
     "text": [
      "{'loss': 0.021964814896911874}\n",
      "val loss 0.05436511780366882\n"
     ]
    },
    {
     "name": "stderr",
     "output_type": "stream",
     "text": [
      "100%|██████████| 230/230 [00:51<00:00,  4.43it/s, loss=0.0291, epoch=20]\n",
      "val: 100%|██████████| 154/154 [00:15<00:00,  9.72it/s, loss=0.0189]\n"
     ]
    },
    {
     "name": "stdout",
     "output_type": "stream",
     "text": [
      "{'loss': 0.01889996877764257}\n",
      "val loss 0.04446957244219817\n"
     ]
    },
    {
     "name": "stderr",
     "output_type": "stream",
     "text": [
      "100%|██████████| 230/230 [00:51<00:00,  4.44it/s, loss=0.0284, epoch=21]\n",
      "val: 100%|██████████| 154/154 [00:15<00:00,  9.69it/s, loss=0.0195]\n"
     ]
    },
    {
     "name": "stdout",
     "output_type": "stream",
     "text": [
      "{'loss': 0.019478324471858655}\n",
      "val loss 0.04650225096875767\n"
     ]
    },
    {
     "name": "stderr",
     "output_type": "stream",
     "text": [
      "100%|██████████| 230/230 [00:51<00:00,  4.43it/s, loss=0.0284, epoch=22]\n",
      "val: 100%|██████████| 154/154 [00:15<00:00, 10.05it/s, loss=0.018] \n"
     ]
    },
    {
     "name": "stdout",
     "output_type": "stream",
     "text": [
      "{'loss': 0.018012935766057142}\n",
      "val loss 0.042033119246325266\n"
     ]
    },
    {
     "name": "stderr",
     "output_type": "stream",
     "text": [
      "100%|██████████| 230/230 [00:51<00:00,  4.43it/s, loss=0.0285, epoch=23]\n",
      "val: 100%|██████████| 154/154 [00:15<00:00, 10.17it/s, loss=0.0187]\n"
     ]
    },
    {
     "name": "stdout",
     "output_type": "stream",
     "text": [
      "{'loss': 0.018655908253033284}\n",
      "val loss 0.042853706335661594\n"
     ]
    },
    {
     "name": "stderr",
     "output_type": "stream",
     "text": [
      "100%|██████████| 230/230 [00:51<00:00,  4.43it/s, loss=0.0284, epoch=24]\n",
      "val: 100%|██████████| 154/154 [00:15<00:00,  9.69it/s, loss=0.0181]\n"
     ]
    },
    {
     "name": "stdout",
     "output_type": "stream",
     "text": [
      "{'loss': 0.0180571437912031}\n",
      "val loss 0.040743469012890686\n"
     ]
    },
    {
     "name": "stderr",
     "output_type": "stream",
     "text": [
      "100%|██████████| 230/230 [00:51<00:00,  4.43it/s, loss=0.0279, epoch=25]\n",
      "val: 100%|██████████| 154/154 [00:15<00:00,  9.69it/s, loss=0.0183]\n"
     ]
    },
    {
     "name": "stdout",
     "output_type": "stream",
     "text": [
      "{'loss': 0.018280951463073777}\n",
      "val loss 0.04373123856671669\n"
     ]
    },
    {
     "name": "stderr",
     "output_type": "stream",
     "text": [
      "100%|██████████| 230/230 [00:51<00:00,  4.43it/s, loss=0.0277, epoch=26]\n",
      "val: 100%|██████████| 154/154 [00:15<00:00, 10.04it/s, loss=0.0178]\n"
     ]
    },
    {
     "name": "stdout",
     "output_type": "stream",
     "text": [
      "{'loss': 0.017819293858804132}\n",
      "val loss 0.04094677555757151\n"
     ]
    },
    {
     "name": "stderr",
     "output_type": "stream",
     "text": [
      "100%|██████████| 230/230 [00:51<00:00,  4.43it/s, loss=0.0275, epoch=27]\n",
      "val: 100%|██████████| 154/154 [00:15<00:00, 10.08it/s, loss=0.0179]\n"
     ]
    },
    {
     "name": "stdout",
     "output_type": "stream",
     "text": [
      "{'loss': 0.017884624421544502}\n",
      "val loss 0.04126559456216358\n"
     ]
    },
    {
     "name": "stderr",
     "output_type": "stream",
     "text": [
      "100%|██████████| 230/230 [00:51<00:00,  4.43it/s, loss=0.0274, epoch=28]\n",
      "val: 100%|██████████| 154/154 [00:15<00:00,  9.81it/s, loss=0.0179]\n"
     ]
    },
    {
     "name": "stdout",
     "output_type": "stream",
     "text": [
      "{'loss': 0.01790069111211753}\n",
      "val loss 0.04097788594479704\n"
     ]
    },
    {
     "name": "stderr",
     "output_type": "stream",
     "text": [
      "100%|██████████| 230/230 [00:51<00:00,  4.43it/s, loss=0.0269, epoch=29]\n",
      "val: 100%|██████████| 154/154 [00:15<00:00,  9.67it/s, loss=0.0176]\n"
     ]
    },
    {
     "name": "stdout",
     "output_type": "stream",
     "text": [
      "{'loss': 0.01756811978578404}\n",
      "val loss 0.04084003082686115\n"
     ]
    },
    {
     "name": "stderr",
     "output_type": "stream",
     "text": [
      "100%|██████████| 230/230 [00:52<00:00,  4.42it/s, loss=0.0268, epoch=30]\n",
      "val: 100%|██████████| 154/154 [00:15<00:00,  9.80it/s, loss=0.0171]\n"
     ]
    },
    {
     "name": "stdout",
     "output_type": "stream",
     "text": [
      "{'loss': 0.017149314916433338}\n",
      "val loss 0.03896723027713156\n"
     ]
    },
    {
     "name": "stderr",
     "output_type": "stream",
     "text": [
      "100%|██████████| 230/230 [00:52<00:00,  4.42it/s, loss=0.027, epoch=31] \n",
      "val: 100%|██████████| 154/154 [00:15<00:00, 10.06it/s, loss=0.0174]\n"
     ]
    },
    {
     "name": "stdout",
     "output_type": "stream",
     "text": [
      "{'loss': 0.017357869959372024}\n",
      "val loss 0.03931403212444851\n"
     ]
    },
    {
     "name": "stderr",
     "output_type": "stream",
     "text": [
      "100%|██████████| 230/230 [00:51<00:00,  4.44it/s, loss=0.0269, epoch=32]\n",
      "val: 100%|██████████| 154/154 [00:15<00:00,  9.88it/s, loss=0.0173]\n"
     ]
    },
    {
     "name": "stdout",
     "output_type": "stream",
     "text": [
      "{'loss': 0.017288265832497627}\n",
      "val loss 0.039109755769899404\n"
     ]
    },
    {
     "name": "stderr",
     "output_type": "stream",
     "text": [
      "100%|██████████| 230/230 [00:52<00:00,  4.42it/s, loss=0.0264, epoch=33]\n",
      "val: 100%|██████████| 154/154 [00:15<00:00,  9.71it/s, loss=0.0168]\n"
     ]
    },
    {
     "name": "stdout",
     "output_type": "stream",
     "text": [
      "{'loss': 0.0168370168437379}\n",
      "val loss 0.03817643947446388\n"
     ]
    },
    {
     "name": "stderr",
     "output_type": "stream",
     "text": [
      "100%|██████████| 230/230 [00:51<00:00,  4.43it/s, loss=0.0263, epoch=34]\n",
      "val: 100%|██████████| 154/154 [00:15<00:00,  9.94it/s, loss=0.0167]\n"
     ]
    },
    {
     "name": "stdout",
     "output_type": "stream",
     "text": [
      "{'loss': 0.016686760343068218}\n",
      "val loss 0.038242840168726616\n"
     ]
    },
    {
     "name": "stderr",
     "output_type": "stream",
     "text": [
      "100%|██████████| 230/230 [00:52<00:00,  4.42it/s, loss=0.0261, epoch=35]\n",
      "val: 100%|██████████| 154/154 [00:15<00:00,  9.95it/s, loss=0.0174]\n"
     ]
    },
    {
     "name": "stdout",
     "output_type": "stream",
     "text": [
      "{'loss': 0.017436476393373312}\n",
      "val loss 0.03924836792692475\n"
     ]
    },
    {
     "name": "stderr",
     "output_type": "stream",
     "text": [
      "100%|██████████| 230/230 [00:51<00:00,  4.44it/s, loss=0.0259, epoch=36]\n",
      "val: 100%|██████████| 154/154 [00:15<00:00,  9.96it/s, loss=0.0161]\n"
     ]
    },
    {
     "name": "stdout",
     "output_type": "stream",
     "text": [
      "{'loss': 0.016121393775892015}\n",
      "val loss 0.03635227680425539\n"
     ]
    },
    {
     "name": "stderr",
     "output_type": "stream",
     "text": [
      "100%|██████████| 230/230 [00:51<00:00,  4.43it/s, loss=0.0257, epoch=37]\n",
      "val: 100%|██████████| 154/154 [00:15<00:00, 10.09it/s, loss=0.0169]\n"
     ]
    },
    {
     "name": "stdout",
     "output_type": "stream",
     "text": [
      "{'loss': 0.016881654541944176}\n",
      "val loss 0.038746004031992666\n"
     ]
    },
    {
     "name": "stderr",
     "output_type": "stream",
     "text": [
      "100%|██████████| 230/230 [00:51<00:00,  4.43it/s, loss=0.0258, epoch=38]\n",
      "val: 100%|██████████| 154/154 [00:15<00:00,  9.92it/s, loss=0.0163]\n"
     ]
    },
    {
     "name": "stdout",
     "output_type": "stream",
     "text": [
      "{'loss': 0.01632622152256567}\n",
      "val loss 0.03745124870090619\n"
     ]
    },
    {
     "name": "stderr",
     "output_type": "stream",
     "text": [
      "100%|██████████| 230/230 [00:51<00:00,  4.42it/s, loss=0.0255, epoch=39]\n",
      "val: 100%|██████████| 154/154 [00:15<00:00,  9.80it/s, loss=0.0167]\n"
     ]
    },
    {
     "name": "stdout",
     "output_type": "stream",
     "text": [
      "{'loss': 0.016742605525057082}\n",
      "val loss 0.03768817023789165\n"
     ]
    },
    {
     "name": "stderr",
     "output_type": "stream",
     "text": [
      "100%|██████████| 230/230 [00:51<00:00,  4.43it/s, loss=0.0255, epoch=40]\n",
      "val: 100%|██████████| 154/154 [00:15<00:00,  9.67it/s, loss=0.0165]\n"
     ]
    },
    {
     "name": "stdout",
     "output_type": "stream",
     "text": [
      "{'loss': 0.01651209350704785}\n",
      "val loss 0.037150785989732496\n"
     ]
    },
    {
     "name": "stderr",
     "output_type": "stream",
     "text": [
      "100%|██████████| 230/230 [00:51<00:00,  4.43it/s, loss=0.0253, epoch=41]\n",
      "val: 100%|██████████| 154/154 [00:15<00:00,  9.77it/s, loss=0.0162]\n"
     ]
    },
    {
     "name": "stdout",
     "output_type": "stream",
     "text": [
      "{'loss': 0.016207443263365318}\n",
      "val loss 0.0366697920406039\n"
     ]
    },
    {
     "name": "stderr",
     "output_type": "stream",
     "text": [
      "100%|██████████| 230/230 [00:51<00:00,  4.43it/s, loss=0.0253, epoch=42]\n",
      "val: 100%|██████████| 154/154 [00:15<00:00,  9.75it/s, loss=0.0164]\n"
     ]
    },
    {
     "name": "stdout",
     "output_type": "stream",
     "text": [
      "{'loss': 0.016366029129950964}\n",
      "val loss 0.037093024205571076\n"
     ]
    },
    {
     "name": "stderr",
     "output_type": "stream",
     "text": [
      "100%|██████████| 230/230 [00:51<00:00,  4.43it/s, loss=0.025, epoch=43] \n",
      "val: 100%|██████████| 154/154 [00:15<00:00,  9.78it/s, loss=0.0161]\n"
     ]
    },
    {
     "name": "stdout",
     "output_type": "stream",
     "text": [
      "{'loss': 0.016136524930000628}\n",
      "val loss 0.036238428803410556\n"
     ]
    },
    {
     "name": "stderr",
     "output_type": "stream",
     "text": [
      "100%|██████████| 230/230 [00:51<00:00,  4.43it/s, loss=0.0251, epoch=44]\n",
      "val: 100%|██████████| 154/154 [00:15<00:00,  9.69it/s, loss=0.0159]\n"
     ]
    },
    {
     "name": "stdout",
     "output_type": "stream",
     "text": [
      "{'loss': 0.0159342439556472}\n",
      "val loss 0.03603702937792538\n"
     ]
    },
    {
     "name": "stderr",
     "output_type": "stream",
     "text": [
      "100%|██████████| 230/230 [00:51<00:00,  4.43it/s, loss=0.025, epoch=45] \n",
      "val: 100%|██████████| 154/154 [00:15<00:00,  9.98it/s, loss=0.016] \n"
     ]
    },
    {
     "name": "stdout",
     "output_type": "stream",
     "text": [
      "{'loss': 0.01596703342613678}\n",
      "val loss 0.03597822785476616\n"
     ]
    },
    {
     "name": "stderr",
     "output_type": "stream",
     "text": [
      "100%|██████████| 230/230 [00:51<00:00,  4.43it/s, loss=0.0252, epoch=46]\n",
      "val: 100%|██████████| 154/154 [00:15<00:00,  9.77it/s, loss=0.0162]\n"
     ]
    },
    {
     "name": "stdout",
     "output_type": "stream",
     "text": [
      "{'loss': 0.0162437491829253}\n",
      "val loss 0.03660234335686549\n"
     ]
    },
    {
     "name": "stderr",
     "output_type": "stream",
     "text": [
      " 66%|██████▌   | 151/230 [00:34<00:17,  4.42it/s, loss=0.0251, epoch=47]"
     ]
    }
   ],
   "source": [
    "run_results = []\n",
    "\n",
    "for _ in range(3):\n",
    "    finetune_head = True\n",
    "    exp_id = None # 'z52pya7i'\n",
    "    model, optimizer, scheduler = get_model(exp_id, n_epochs, finetune_head, lr, weight_decay)\n",
    "    val_loss1 = train(model, train_loader, test_loader, optimizer, scheduler, n_epochs)\n",
    "    run_results.append(val_loss1[-1])"
   ]
  },
  {
   "cell_type": "code",
   "execution_count": 12,
   "id": "11a46305",
   "metadata": {},
   "outputs": [
    {
     "data": {
      "text/plain": [
       "0.009279140784743602"
      ]
     },
     "execution_count": 12,
     "metadata": {},
     "output_type": "execute_result"
    }
   ],
   "source": [
    "np.mean(run_results)"
   ]
  },
  {
   "cell_type": "code",
   "execution_count": null,
   "id": "43eb3d4a",
   "metadata": {},
   "outputs": [],
   "source": [
    "val_loss1"
   ]
  },
  {
   "cell_type": "code",
   "execution_count": null,
   "id": "96c90efa",
   "metadata": {},
   "outputs": [],
   "source": [
    "finetune_head = True\n",
    "exp_id = None\n",
    "model, optimizer, scheduler = get_model(exp_id, n_epochs, finetune_head, lr, weight_decay)\n",
    "val_loss2 = train(model, train_loader, test_loader, optimizer, scheduler, n_epochs)"
   ]
  },
  {
   "cell_type": "code",
   "execution_count": null,
   "id": "c25457a5",
   "metadata": {},
   "outputs": [],
   "source": [
    "val_loss2"
   ]
  },
  {
   "cell_type": "markdown",
   "id": "67e1a7b2",
   "metadata": {},
   "source": [
    "### Finetuning"
   ]
  },
  {
   "cell_type": "code",
   "execution_count": null,
   "id": "910e3a5c",
   "metadata": {},
   "outputs": [],
   "source": [
    "finetune_head = False\n",
    "exp_id = 'z52pya7i'\n",
    "model, optimizer, scheduler = get_model(exp_id, n_epochs, finetune_head, lr, weight_decay)\n",
    "val_loss3 = train(model, train_loader, test_loader, optimizer, scheduler, n_epochs)"
   ]
  },
  {
   "cell_type": "code",
   "execution_count": null,
   "id": "f68c5fdb",
   "metadata": {},
   "outputs": [],
   "source": [
    "val_loss3"
   ]
  },
  {
   "cell_type": "markdown",
   "id": "a95bae29",
   "metadata": {},
   "source": [
    "### From scratch"
   ]
  },
  {
   "cell_type": "code",
   "execution_count": null,
   "id": "e105ebe4",
   "metadata": {},
   "outputs": [],
   "source": [
    "finetune_head = False\n",
    "exp_id = None\n",
    "model, optimizer, scheduler = get_model(exp_id, n_epochs, finetune_head, lr, weight_decay)\n",
    "val_loss4 = train(model, train_loader, test_loader, optimizer, scheduler, 50)"
   ]
  },
  {
   "cell_type": "code",
   "execution_count": null,
   "id": "66d371b4",
   "metadata": {},
   "outputs": [],
   "source": [
    "val_loss4"
   ]
  },
  {
   "cell_type": "markdown",
   "id": "b800dcc1",
   "metadata": {},
   "source": [
    "## Semisupervised"
   ]
  },
  {
   "cell_type": "code",
   "execution_count": null,
   "id": "2aafaab8",
   "metadata": {},
   "outputs": [],
   "source": [
    "test_ds = ABCDataset(dataset_path,\n",
    "                     'test',\n",
    "                     'distances',\n",
    "                     transform=PointCloudNormalize('box'))\n",
    "\n",
    "test_loader = DataLoader(test_ds, shuffle=False, batch_size=32)"
   ]
  },
  {
   "cell_type": "code",
   "execution_count": null,
   "id": "5cb5affe",
   "metadata": {},
   "outputs": [],
   "source": [
    "finetune_head = False\n",
    "exp_id = 'z52pya7i'\n",
    "n_epochs = 200\n",
    "run_results = []\n",
    "\n",
    "for i, seed in enumerate([24234, 23214, 64645]):\n",
    "    train_ds = ABCDataset(dataset_path,\n",
    "                          'train',\n",
    "                          'distances',\n",
    "                          transform=PointCloudNormalize('box'), sample_frac=0.01, seed=seed)\n",
    "\n",
    "    train_loader = DataLoader(train_ds, shuffle=True, batch_size=50)\n",
    "    model, optimizer, scheduler = get_model(exp_id, n_epochs, finetune_head, lr, weight_decay)\n",
    "    val_loss4 = train(model, train_loader, test_loader, optimizer, scheduler, n_epochs, val_every=50)\n",
    "    print(f'Run {i}: {val_loss4[-1]}')\n",
    "    run_results.append(val_loss4[-1])\n",
    "    \n",
    "np.mean(run_results), np.std(run_results, ddof=1)"
   ]
  },
  {
   "cell_type": "code",
   "execution_count": null,
   "id": "f264f342",
   "metadata": {},
   "outputs": [],
   "source": [
    "np.mean(run_results), np.std(run_results, ddof=1)"
   ]
  },
  {
   "cell_type": "code",
   "execution_count": null,
   "id": "ddec41fa",
   "metadata": {},
   "outputs": [],
   "source": [
    "finetune_head = False\n",
    "exp_id = None\n",
    "n_epochs = 200\n",
    "run_results = []\n",
    "\n",
    "for i, seed in enumerate([24234, 23214, 64645]):\n",
    "    train_ds = ABCDataset(dataset_path,\n",
    "                          'train',\n",
    "                          'distances',\n",
    "                          transform=PointCloudNormalize('box'), sample_frac=0.01, seed=seed)\n",
    "\n",
    "    train_loader = DataLoader(train_ds, shuffle=True, batch_size=50)\n",
    "\n",
    "    model, optimizer, scheduler = get_model(exp_id, n_epochs, finetune_head, lr, weight_decay)\n",
    "    val_loss4 = train(model, train_loader, test_loader, optimizer, scheduler, n_epochs, val_every=50)\n",
    "    print(f'Run {i}: {val_loss4[-1]}')\n",
    "    run_results.append(val_loss4[-1])"
   ]
  },
  {
   "cell_type": "code",
   "execution_count": null,
   "id": "edbc27bf",
   "metadata": {},
   "outputs": [],
   "source": [
    "np.mean(run_results), np.std(run_results, ddof=1)"
   ]
  },
  {
   "cell_type": "code",
   "execution_count": null,
   "id": "b4cdbbe6",
   "metadata": {},
   "outputs": [],
   "source": [
    "finetune_head = False\n",
    "exp_id = 'z52pya7i'\n",
    "n_epochs = 200\n",
    "run_results = []\n",
    "\n",
    "for i, seed in enumerate([24234, 23214, 64645]):\n",
    "    train_ds = ABCDataset(dataset_path,\n",
    "                          'train',\n",
    "                          'distances',\n",
    "                          transform=PointCloudNormalize('box'), sample_frac=0.05, seed=seed)\n",
    "\n",
    "    train_loader = DataLoader(train_ds, shuffle=True, batch_size=50)\n",
    "\n",
    "    model, optimizer, scheduler = get_model(exp_id, n_epochs, finetune_head, lr, weight_decay)\n",
    "    val_loss4 = train(model, train_loader, test_loader, optimizer, scheduler, n_epochs, val_every=50)\n",
    "    print(f'Run {i}: {val_loss4[-1]}')\n",
    "    run_results.append(val_loss4[-1])"
   ]
  },
  {
   "cell_type": "code",
   "execution_count": null,
   "id": "abccf761",
   "metadata": {},
   "outputs": [],
   "source": [
    "np.mean(run_results), np.std(run_results, ddof=1)"
   ]
  },
  {
   "cell_type": "code",
   "execution_count": null,
   "id": "e0e9ad8a",
   "metadata": {},
   "outputs": [],
   "source": [
    "finetune_head = False\n",
    "exp_id = None\n",
    "n_epochs = 200\n",
    "run_results = []\n",
    "\n",
    "for i, seed in enumerate([24234, 23214, 64645]):\n",
    "    train_ds = ABCDataset(dataset_path,\n",
    "                          'train',\n",
    "                          'distances',\n",
    "                          transform=PointCloudNormalize('box'), sample_frac=0.05, seed=seed)\n",
    "\n",
    "    train_loader = DataLoader(train_ds, shuffle=True, batch_size=50)\n",
    "\n",
    "    model, optimizer, scheduler = get_model(exp_id, n_epochs, finetune_head, lr, weight_decay)\n",
    "    val_loss4 = train(model, train_loader, test_loader, optimizer, scheduler, n_epochs, val_every=50)\n",
    "    print(f'Run {i}: {val_loss4[-1]}')\n",
    "    run_results.append(val_loss4[-1])"
   ]
  },
  {
   "cell_type": "code",
   "execution_count": null,
   "id": "e9cd074a",
   "metadata": {},
   "outputs": [],
   "source": [
    "np.mean(run_results), np.std(run_results, ddof=1)"
   ]
  },
  {
   "cell_type": "code",
   "execution_count": null,
   "id": "79871e39",
   "metadata": {},
   "outputs": [],
   "source": []
  }
 ],
 "metadata": {
  "kernelspec": {
   "display_name": "Python 3",
   "language": "python",
   "name": "python3"
  },
  "language_info": {
   "codemirror_mode": {
    "name": "ipython",
    "version": 3
   },
   "file_extension": ".py",
   "mimetype": "text/x-python",
   "name": "python",
   "nbconvert_exporter": "python",
   "pygments_lexer": "ipython3",
   "version": "3.8.12"
  }
 },
 "nbformat": 4,
 "nbformat_minor": 5
}
